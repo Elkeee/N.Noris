{
 "cells": [
  {
   "cell_type": "code",
   "execution_count": 3,
   "metadata": {},
   "outputs": [
    {
     "name": "stdout",
     "output_type": "stream",
     "text": [
      "sunt aut facere repellat provident occaecati excepturi optio reprehenderit\n",
      "qui est esse\n",
      "ea molestias quasi exercitationem repellat qui ipsa sit aut\n",
      "eum et est occaecati\n",
      "nesciunt quas odio\n",
      "dolorem eum magni eos aperiam quia\n",
      "magnam facilis autem\n",
      "dolorem dolore est ipsam\n",
      "nesciunt iure omnis dolorem tempora et accusantium\n",
      "optio molestias id quia eum\n",
      "et ea vero quia laudantium autem\n",
      "in quibusdam tempore odit est dolorem\n",
      "dolorum ut in voluptas mollitia et saepe quo animi\n",
      "voluptatem eligendi optio\n",
      "eveniet quod temporibus\n",
      "sint suscipit perspiciatis velit dolorum rerum ipsa laboriosam odio\n",
      "fugit voluptas sed molestias voluptatem provident\n",
      "voluptate et itaque vero tempora molestiae\n",
      "adipisci placeat illum aut reiciendis qui\n",
      "doloribus ad provident suscipit at\n",
      "asperiores ea ipsam voluptatibus modi minima quia sint\n",
      "dolor sint quo a velit explicabo quia nam\n",
      "maxime id vitae nihil numquam\n",
      "autem hic labore sunt dolores incidunt\n",
      "rem alias distinctio quo quis\n",
      "est et quae odit qui non\n",
      "quasi id et eos tenetur aut quo autem\n",
      "delectus ullam et corporis nulla voluptas sequi\n",
      "iusto eius quod necessitatibus culpa ea\n",
      "a quo magni similique perferendis\n",
      "ullam ut quidem id aut vel consequuntur\n",
      "doloremque illum aliquid sunt\n",
      "qui explicabo molestiae dolorem\n",
      "magnam ut rerum iure\n",
      "id nihil consequatur molestias animi provident\n",
      "fuga nam accusamus voluptas reiciendis itaque\n",
      "provident vel ut sit ratione est\n",
      "explicabo et eos deleniti nostrum ab id repellendus\n",
      "eos dolorem iste accusantium est eaque quam\n",
      "enim quo cumque\n",
      "non est facere\n",
      "commodi ullam sint et excepturi error explicabo praesentium voluptas\n",
      "eligendi iste nostrum consequuntur adipisci praesentium sit beatae perferendis\n",
      "optio dolor molestias sit\n",
      "ut numquam possimus omnis eius suscipit laudantium iure\n",
      "aut quo modi neque nostrum ducimus\n",
      "quibusdam cumque rem aut deserunt\n",
      "ut voluptatem illum ea doloribus itaque eos\n",
      "laborum non sunt aut ut assumenda perspiciatis voluptas\n",
      "repellendus qui recusandae incidunt voluptates tenetur qui omnis exercitationem\n",
      "soluta aliquam aperiam consequatur illo quis voluptas\n",
      "qui enim et consequuntur quia animi quis voluptate quibusdam\n",
      "ut quo aut ducimus alias\n",
      "sit asperiores ipsam eveniet odio non quia\n",
      "sit vel voluptatem et non libero\n",
      "qui et at rerum necessitatibus\n",
      "sed ab est est\n",
      "voluptatum itaque dolores nisi et quasi\n",
      "qui commodi dolor at maiores et quis id accusantium\n",
      "consequatur placeat omnis quisquam quia reprehenderit fugit veritatis facere\n",
      "voluptatem doloribus consectetur est ut ducimus\n",
      "beatae enim quia vel\n",
      "voluptas blanditiis repellendus animi ducimus error sapiente et suscipit\n",
      "et fugit quas eum in in aperiam quod\n",
      "consequatur id enim sunt et et\n",
      "repudiandae ea animi iusto\n",
      "aliquid eos sed fuga est maxime repellendus\n",
      "odio quis facere architecto reiciendis optio\n",
      "fugiat quod pariatur odit minima\n",
      "voluptatem laborum magni\n",
      "et iusto veniam et illum aut fuga\n",
      "sint hic doloribus consequatur eos non id\n",
      "consequuntur deleniti eos quia temporibus ab aliquid at\n",
      "enim unde ratione doloribus quas enim ut sit sapiente\n",
      "dignissimos eum dolor ut enim et delectus in\n",
      "doloremque officiis ad et non perferendis\n",
      "necessitatibus quasi exercitationem odio\n",
      "quam voluptatibus rerum veritatis\n",
      "pariatur consequatur quia magnam autem omnis non amet\n",
      "labore in ex et explicabo corporis aut quas\n",
      "tempora rem veritatis voluptas quo dolores vero\n",
      "laudantium voluptate suscipit sunt enim enim\n",
      "odit et voluptates doloribus alias odio et\n",
      "optio ipsam molestias necessitatibus occaecati facilis veritatis dolores aut\n",
      "dolore veritatis porro provident adipisci blanditiis et sunt\n",
      "placeat quia et porro iste\n",
      "nostrum quis quasi placeat\n",
      "sapiente omnis fugit eos\n",
      "sint soluta et vel magnam aut ut sed qui\n",
      "ad iusto omnis odit dolor voluptatibus\n",
      "aut amet sed\n",
      "ratione ex tenetur perferendis\n",
      "beatae soluta recusandae\n",
      "qui qui voluptates illo iste minima\n",
      "id minus libero illum nam ad officiis\n",
      "quaerat velit veniam amet cupiditate aut numquam ut sequi\n",
      "quas fugiat ut perspiciatis vero provident\n",
      "laboriosam dolor voluptates\n",
      "temporibus sit alias delectus eligendi possimus magni\n",
      "at nam consequatur ea labore ea harum\n"
     ]
    }
   ],
   "source": [
    "import requests\n",
    "import json\n",
    "def all_posts():\n",
    "    posts = requests.get('https://jsonplaceholder.typicode.com/posts')\n",
    "    for post in posts.json():\n",
    "        print(post['title'])\n",
    "all_posts()"
   ]
  },
  {
   "cell_type": "code",
   "execution_count": 4,
   "metadata": {},
   "outputs": [
    {
     "name": "stdout",
     "output_type": "stream",
     "text": [
      "Введіть id = 4\n",
      "eum et est occaecati\n"
     ]
    }
   ],
   "source": [
    "import requests\n",
    "import json\n",
    "def post_by_id():\n",
    "    id = int(input('Введіть id = '))\n",
    "    posts = requests.get('https://jsonplaceholder.typicode.com/posts/' + str(id))\n",
    "    print (posts.json()['title'])\n",
    "        \n",
    "post_by_id()   "
   ]
  },
  {
   "cell_type": "code",
   "execution_count": 5,
   "metadata": {},
   "outputs": [
    {
     "name": "stdout",
     "output_type": "stream",
     "text": [
      "=========\n",
      "fugit labore quia mollitia quas deserunt nostrum sunt ut dolorum nostrum id quia aut est\n",
      "fuga est inventore vel eligendi explicabo quis consectetur\n",
      "aut occaecati repellat id natus quo est\n",
      "ut blanditiis quia ut vel ut maiores ea\n",
      "=========\n",
      "modi ut eos dolores illum nam dolor expedita maiores dignissimos facilis\n",
      "ipsum est rem est fugit velit sequi\n",
      "eum odio dolores dolor totam\n",
      "occaecati ratione eius rem velit\n",
      "=========\n",
      "aut inventore non pariatur sit vitae voluptatem sapiente fuga eos qui dolor rerum\n",
      "inventore corporis exercitationem\n",
      "corporis cupiditate et deserunt recusandae est sed quis culpa\n",
      "eum maiores corporis et\n",
      "=========\n",
      "et officiis id praesentium hic aut ipsa dolorem repudiandae vel quae voluptas qui exercitationem\n",
      "voluptatibus unde sed\n",
      "minima et qui ipsam aspernatur\n",
      "expedita magnam laudantium et et quaerat ut qui dolorum\n",
      "=========\n",
      "debitis magnam hic odit aut ullam nostrum tenetur nihil ut voluptates blanditiis autem odio dicta rerum\n",
      "quisquam saepe et est\n",
      "sunt quasi nemo laudantium deserunt\n",
      "molestias tempora quo quia\n"
     ]
    }
   ],
   "source": [
    "def coments(id):\n",
    "    comments = requests.get('https://jsonplaceholder.typicode.com/comments?postId=' + str(id))\n",
    "    for comment in comments.json():\n",
    "        print('=========')\n",
    "        print (comment['name']+' '+comment['body'])\n",
    "        \n",
    "coments(3)"
   ]
  },
  {
   "cell_type": "code",
   "execution_count": null,
   "metadata": {},
   "outputs": [],
   "source": []
  },
  {
   "cell_type": "code",
   "execution_count": 6,
   "metadata": {},
   "outputs": [
    {
     "name": "stdout",
     "output_type": "stream",
     "text": [
      "=========\n",
      "{'postId': 3, 'id': 11, 'name': 'fugit labore quia mollitia quas deserunt nostrum sunt', 'email': 'Veronica_Goodwin@timmothy.net', 'body': 'ut dolorum nostrum id quia aut est\\nfuga est inventore vel eligendi explicabo quis consectetur\\naut occaecati repellat id natus quo est\\nut blanditiis quia ut vel ut maiores ea'}\n",
      "=========\n",
      "{'postId': 3, 'id': 12, 'name': 'modi ut eos dolores illum nam dolor', 'email': 'Oswald.Vandervort@leanne.org', 'body': 'expedita maiores dignissimos facilis\\nipsum est rem est fugit velit sequi\\neum odio dolores dolor totam\\noccaecati ratione eius rem velit'}\n",
      "=========\n",
      "{'postId': 3, 'id': 13, 'name': 'aut inventore non pariatur sit vitae voluptatem sapiente', 'email': 'Kariane@jadyn.tv', 'body': 'fuga eos qui dolor rerum\\ninventore corporis exercitationem\\ncorporis cupiditate et deserunt recusandae est sed quis culpa\\neum maiores corporis et'}\n",
      "=========\n",
      "{'postId': 3, 'id': 14, 'name': 'et officiis id praesentium hic aut ipsa dolorem repudiandae', 'email': 'Nathan@solon.io', 'body': 'vel quae voluptas qui exercitationem\\nvoluptatibus unde sed\\nminima et qui ipsam aspernatur\\nexpedita magnam laudantium et et quaerat ut qui dolorum'}\n",
      "=========\n",
      "{'postId': 3, 'id': 15, 'name': 'debitis magnam hic odit aut ullam nostrum tenetur', 'email': 'Maynard.Hodkiewicz@roberta.com', 'body': 'nihil ut voluptates blanditiis autem odio dicta rerum\\nquisquam saepe et est\\nsunt quasi nemo laudantium deserunt\\nmolestias tempora quo quia'}\n"
     ]
    }
   ],
   "source": [
    "def coments(id):\n",
    "    comments = requests.get('https://jsonplaceholder.typicode.com/comments?postId=' + str(id))\n",
    "    for comment in comments.json():\n",
    "        print('=========')\n",
    "        print (comment)\n",
    "        \n",
    "coments(3)"
   ]
  },
  {
   "cell_type": "code",
   "execution_count": 8,
   "metadata": {},
   "outputs": [
    {
     "name": "stdout",
     "output_type": "stream",
     "text": [
      "=========\n",
      "laudantium enim quasi est quidem magnam voluptate ipsam eos\n",
      "tempora quo necessitatibus\n",
      "dolor quam autem quasi\n",
      "reiciendis et nam sapiente accusantium\n",
      "=========\n",
      "est natus enim nihil est dolore omnis voluptatem numquam\n",
      "et omnis occaecati quod ullam at\n",
      "voluptatem error expedita pariatur\n",
      "nihil sint nostrum voluptatem reiciendis et\n",
      "=========\n",
      "quia molestiae reprehenderit quasi aspernatur\n",
      "aut expedita occaecati aliquam eveniet laudantium\n",
      "omnis quibusdam delectus saepe quia accusamus maiores nam est\n",
      "cum et ducimus et vero voluptates excepturi deleniti ratione\n",
      "=========\n",
      "non et atque\n",
      "occaecati deserunt quas accusantium unde odit nobis qui voluptatem\n",
      "quia voluptas consequuntur itaque dolor\n",
      "et qui rerum deleniti ut occaecati\n",
      "=========\n",
      "harum non quasi et ratione\n",
      "tempore iure ex voluptates in ratione\n",
      "harum architecto fugit inventore cupiditate\n",
      "voluptates magni quo et\n"
     ]
    }
   ],
   "source": [
    "def coment():\n",
    "    comments = requests.get('https://jsonplaceholder.typicode.com/posts/1/comments')\n",
    "    for comment in comments.json():\n",
    "        print('=========')\n",
    "        print (comment ['body'])\n",
    "        \n",
    "coment()"
   ]
  },
  {
   "cell_type": "code",
   "execution_count": null,
   "metadata": {},
   "outputs": [],
   "source": []
  }
 ],
 "metadata": {
  "kernelspec": {
   "display_name": "Python 3",
   "language": "python",
   "name": "python3"
  },
  "language_info": {
   "codemirror_mode": {
    "name": "ipython",
    "version": 3
   },
   "file_extension": ".py",
   "mimetype": "text/x-python",
   "name": "python",
   "nbconvert_exporter": "python",
   "pygments_lexer": "ipython3",
   "version": "3.6.6"
  }
 },
 "nbformat": 4,
 "nbformat_minor": 2
}
