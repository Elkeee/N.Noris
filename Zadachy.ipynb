{
 "cells": [
  {
   "cell_type": "code",
   "execution_count": 2,
   "metadata": {},
   "outputs": [],
   "source": [
    "import math\n"
   ]
  },
  {
   "cell_type": "code",
   "execution_count": 17,
   "metadata": {},
   "outputs": [
    {
     "name": "stdout",
     "output_type": "stream",
     "text": [
      "Ведіть сторону квадрата = 3\n",
      "Площа = 9 Периметр = 12 Діагональ = 4.242640687119286\n"
     ]
    }
   ],
   "source": [
    "import math\n",
    "\n",
    "def square ():\n",
    "    x = int(input('Ведіть сторону квадрата = '))\n",
    "    s = x * x\n",
    "    p = 4 * x\n",
    "    d = math.sqrt(2)*x\n",
    "    print('Площа =',s, 'Периметр =', p, 'Діагональ =', d)\n",
    "square ()"
   ]
  },
  {
   "cell_type": "code",
   "execution_count": null,
   "metadata": {},
   "outputs": [],
   "source": [
    "\n",
    "\n"
   ]
  },
  {
   "cell_type": "code",
   "execution_count": 58,
   "metadata": {},
   "outputs": [
    {
     "name": "stdout",
     "output_type": "stream",
     "text": [
      "Невідома операція\n"
     ]
    }
   ],
   "source": [
    "def arithmetic(x, y, op):\n",
    "    if '+' in op:\n",
    "        return (x+y)\n",
    "    if '-' in op:\n",
    "        return (x-y)\n",
    "    if '*' in op:\n",
    "        return (x*y)\n",
    "    if '/' in op:\n",
    "        return (x/y)\n",
    "    else:\n",
    "        print('Невідома операція')\n",
    "\n",
    "    \n",
    "\n",
    "arithmetic(4,3, 'з')"
   ]
  },
  {
   "cell_type": "code",
   "execution_count": null,
   "metadata": {},
   "outputs": [],
   "source": [
    "\n"
   ]
  },
  {
   "cell_type": "code",
   "execution_count": 55,
   "metadata": {},
   "outputs": [
    {
     "name": "stdout",
     "output_type": "stream",
     "text": [
      "Ведіть номер місяця  10\n",
      "Осінь\n"
     ]
    }
   ],
   "source": [
    "def season ():\n",
    "    x = int(input('Ведіть номер місяця  '))\n",
    "    \n",
    "    if x == 1:\n",
    "        print('Зима')\n",
    "    if x == 2:\n",
    "        print('Зима')\n",
    "    if x == 3:\n",
    "        print('Весна')\n",
    "    if x == 4:\n",
    "        print('Весна')\n",
    "    if x == 5:\n",
    "        print('Весна')\n",
    "    if x == 6:\n",
    "        print('Літо')\n",
    "    if x == 7:\n",
    "        print('Літо')\n",
    "    if x == 8:\n",
    "        print('Літо')\n",
    "    if x == 9:\n",
    "        print('Осінь')\n",
    "    if x == 10:\n",
    "        print('Осінь')\n",
    "    if x == 11:\n",
    "        print('Осінь')\n",
    "    if x == 12:\n",
    "        print('Зима')\n",
    "    \n",
    "        \n",
    "season ()\n",
    "        \n",
    "\n",
    "        "
   ]
  },
  {
   "cell_type": "code",
   "execution_count": null,
   "metadata": {},
   "outputs": [],
   "source": []
  },
  {
   "cell_type": "code",
   "execution_count": 63,
   "metadata": {},
   "outputs": [
    {
     "name": "stdout",
     "output_type": "stream",
     "text": [
      "Відсотки = 15.0\n",
      "Повна сума = 115.0\n"
     ]
    }
   ],
   "source": [
    "def bank (deposit, years, interest):\n",
    "    \n",
    "    g = (deposit*interest)*years\n",
    "    suma = (deposit+g)\n",
    "    print('Відсотки =',g)\n",
    "    print('Повна сума =', suma)\n",
    "    \n",
    "    \n",
    "bank (0.05)"
   ]
  },
  {
   "cell_type": "code",
   "execution_count": null,
   "metadata": {},
   "outputs": [],
   "source": [
    "\n"
   ]
  },
  {
   "cell_type": "code",
   "execution_count": 64,
   "metadata": {},
   "outputs": [
    {
     "name": "stdout",
     "output_type": "stream",
     "text": [
      "Введіть суму вкладу = 300\n",
      "Введіть на скільки років =10\n",
      "Відсотки = 150.0\n",
      "Повна сума = 450.0\n"
     ]
    }
   ],
   "source": [
    "def bank (interest):\n",
    "    deposit = int(input('Введіть суму вкладу = '))\n",
    "    years = int(input('Введіть на скільки років = '))\n",
    "    g = (deposit*interest)*years\n",
    "    suma = (deposit+g)\n",
    "    print('Відсотки =',g)\n",
    "    print('Повна сума =', suma)\n",
    "    \n",
    "    \n",
    "bank (0.05)"
   ]
  },
  {
   "cell_type": "code",
   "execution_count": null,
   "metadata": {},
   "outputs": [],
   "source": []
  }
 ],
 "metadata": {
  "kernelspec": {
   "display_name": "Python 3",
   "language": "python",
   "name": "python3"
  },
  "language_info": {
   "codemirror_mode": {
    "name": "ipython",
    "version": 3
   },
   "file_extension": ".py",
   "mimetype": "text/x-python",
   "name": "python",
   "nbconvert_exporter": "python",
   "pygments_lexer": "ipython3",
   "version": "3.6.6"
  }
 },
 "nbformat": 4,
 "nbformat_minor": 2
}
