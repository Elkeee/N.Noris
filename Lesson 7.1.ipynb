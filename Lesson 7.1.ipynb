{
 "cells": [
  {
   "cell_type": "code",
   "execution_count": 2,
   "metadata": {},
   "outputs": [
    {
     "name": "stdout",
     "output_type": "stream",
     "text": [
      "0 Jon\n",
      "1 Jon\n",
      "2 Jon\n",
      "3 Jon\n",
      "4 Jon\n",
      "5 Jon\n",
      "6 Jon\n",
      "7 Jon\n",
      "8 Jon\n",
      "9 Jon\n"
     ]
    }
   ],
   "source": [
    "def let (times, word):\n",
    "    for x in range (0, times):\n",
    "        print(str(x) + word)\n",
    "let (10, ' Jon')\n",
    "    \n",
    "\n",
    "    \n",
    "\n"
   ]
  },
  {
   "cell_type": "code",
   "execution_count": 3,
   "metadata": {},
   "outputs": [
    {
     "ename": "SyntaxError",
     "evalue": "invalid syntax (<ipython-input-3-346413b7c575>, line 1)",
     "output_type": "error",
     "traceback": [
      "\u001b[0;36m  File \u001b[0;32m\"<ipython-input-3-346413b7c575>\"\u001b[0;36m, line \u001b[0;32m1\u001b[0m\n\u001b[0;31m    Назва гри\u001b[0m\n\u001b[0m            ^\u001b[0m\n\u001b[0;31mSyntaxError\u001b[0m\u001b[0;31m:\u001b[0m invalid syntax\n"
     ]
    }
   ],
   "source": [
    "Назва гри\n",
    "1) вивід полля\n",
    "\n",
    "2) запитати хто перший гравець\n",
    "\n",
    "3) запитувати почергово гравців де вони ставлять свої значки\n",
    "\n",
    "4) "
   ]
  },
  {
   "cell_type": "code",
   "execution_count": 15,
   "metadata": {},
   "outputs": [
    {
     "name": "stdout",
     "output_type": "stream",
     "text": [
      "    |  |   \n",
      "-----------\n",
      "    |  |   \n",
      "-----------\n",
      "    |  |   \n"
     ]
    }
   ],
   "source": [
    "from IPython.display import clear_output\n",
    "board = [' '] * 10\n",
    "def reset_board():\n",
    "    global board, game_state\n",
    "    board = [' ']* 10\n",
    "    game_state = True\n",
    "def display_board ():\n",
    "    ''' Ця функція виводить ігрове поле Х/0'''\n",
    "    print('  '+board[7]+' |'+board[8]+' | '+ board[9]+' ')\n",
    "    print (\"-----------\")\n",
    "    print('  '+board[4]+' |'+board[5]+' | '+ board[6]+' ')\n",
    "    print (\"-----------\")\n",
    "    print('  '+board[1]+' |'+board[2]+' | '+ board[3]+' ')\n",
    "    \n",
    "display_board()\n",
    "    "
   ]
  },
  {
   "cell_type": "code",
   "execution_count": null,
   "metadata": {},
   "outputs": [],
   "source": []
  },
  {
   "cell_type": "code",
   "execution_count": null,
   "metadata": {},
   "outputs": [],
   "source": []
  },
  {
   "cell_type": "code",
   "execution_count": null,
   "metadata": {},
   "outputs": [],
   "source": []
  },
  {
   "cell_type": "code",
   "execution_count": null,
   "metadata": {},
   "outputs": [],
   "source": []
  }
 ],
 "metadata": {
  "kernelspec": {
   "display_name": "Python 3",
   "language": "python",
   "name": "python3"
  },
  "language_info": {
   "codemirror_mode": {
    "name": "ipython",
    "version": 3
   },
   "file_extension": ".py",
   "mimetype": "text/x-python",
   "name": "python",
   "nbconvert_exporter": "python",
   "pygments_lexer": "ipython3",
   "version": "3.6.6"
  }
 },
 "nbformat": 4,
 "nbformat_minor": 2
}
